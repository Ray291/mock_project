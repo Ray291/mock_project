{
 "cells": [
  {
   "cell_type": "code",
   "execution_count": 69,
   "id": "952d71d4-79c4-4f59-8a30-6bd85ed67cfc",
   "metadata": {},
   "outputs": [],
   "source": [
    "import findspark\n",
    "findspark.init()\n",
    "from pyspark.sql import SparkSession\n",
    "from glob import glob\n",
    "from pyspark.sql.functions import *\n",
    "from pyspark.sql.window import Window"
   ]
  },
  {
   "cell_type": "code",
   "execution_count": 158,
   "id": "a39ec6c4-8eaf-41e4-8959-f4795eb9693e",
   "metadata": {},
   "outputs": [],
   "source": [
    "user_list = glob('./data/source/users/*')[:20]\n",
    "promotion_list = glob('./data/source/promotions/*')[:20]\n",
    "transactions_list = glob('./data/source/transactions/*')[:20]"
   ]
  },
  {
   "cell_type": "code",
   "execution_count": 9,
   "id": "ab0bb685-ae88-46a9-b0d8-618d57f1b544",
   "metadata": {},
   "outputs": [],
   "source": [
    "spark = (SparkSession\n",
    "        .builder\n",
    "        .appName(\"mock project\")\n",
    "        .getOrCreate())"
   ]
  },
  {
   "cell_type": "code",
   "execution_count": 52,
   "id": "e95352fc-4f78-4c62-abed-f3b0190de41a",
   "metadata": {},
   "outputs": [],
   "source": [
    "for file in user_list:\n",
    "    user = spark.read.csv(file, sep='\\t', header=True)\n",
    "    user.write.parquet('./Spark_mock_project/datalake/user/' + file.split('\\\\')[-1])\n",
    "\n",
    "for file in promotion_list:\n",
    "    prom = spark.read.csv(file, sep='\\t', header=True)\n",
    "    prom.write.parquet('./Spark_mock_project/datalake/promotion/' + file.split('\\\\')[-1])\n",
    "\n",
    "for file in transactions_list:\n",
    "    tran = spark.read.csv(file, sep='\\t', header=True)\n",
    "    tran.write.parquet('./Spark_mock_project/datalake/transaction/' + file.split('\\\\')[-1])"
   ]
  },
  {
   "cell_type": "markdown",
   "id": "9b8196c9-2466-4c7c-b9d1-9d75072c0c34",
   "metadata": {},
   "source": [
    "## User demography"
   ]
  },
  {
   "cell_type": "markdown",
   "id": "d65d7037-e973-4366-88fb-7e37ca7ff4a3",
   "metadata": {},
   "source": [
    "### 1. Integrate"
   ]
  },
  {
   "cell_type": "code",
   "execution_count": 96,
   "id": "c153f744-4bc0-4a83-939a-465814ece5ad",
   "metadata": {
    "tags": []
   },
   "outputs": [],
   "source": [
    "user = (spark.read\n",
    "        .option(\"header\",\"true\")\n",
    "        .option(\"recursiveFileLookup\",\"true\")\n",
    "        .parquet(\"./Spark_mock_project/datalake/user\")\n",
    "        .withColumn(\"updatedTime\", to_date(col(\"updatedTime\"), \"yyyy-MM-dd HH:mm:ss.SSS\"))\n",
    "        .withColumn(\"birthdate\", to_date(col(\"birthdate\")))\n",
    "        .withColumn(\"Age\", floor(datediff(current_date(), col(\"birthdate\"))/365.25)))"
   ]
  },
  {
   "cell_type": "code",
   "execution_count": 97,
   "id": "9627dc6a-0506-48b0-baba-0c137de38555",
   "metadata": {},
   "outputs": [
    {
     "name": "stdout",
     "output_type": "stream",
     "text": [
      "+------+----------+------------+------+-----------+---+\n",
      "|userid| birthdate|profileLevel|gender|updatedTime|Age|\n",
      "+------+----------+------------+------+-----------+---+\n",
      "| 11176|1962-06-28|           3|     2| 2021-11-02| 59|\n",
      "| 31287|1964-06-28|           1|     2| 2021-11-02| 57|\n",
      "| 32183|1982-02-17|           3|     1| 2021-11-02| 40|\n",
      "+------+----------+------------+------+-----------+---+\n",
      "only showing top 3 rows\n",
      "\n"
     ]
    }
   ],
   "source": [
    "user.show(3)"
   ]
  },
  {
   "cell_type": "code",
   "execution_count": 86,
   "id": "e63e8ee0-6b40-4b04-8fe5-c625a57207de",
   "metadata": {
    "tags": []
   },
   "outputs": [],
   "source": [
    "w = Window.partitionBy(user.userid).orderBy(user.updatedTime.desc())\n",
    "user_df = user.withColumn(\"row_number\", row_number().over(w)).filter(col(\"row_number\")==1).drop(\"row_number\")"
   ]
  },
  {
   "cell_type": "code",
   "execution_count": 88,
   "id": "cc09e8c3-c019-47c9-842d-c0e69b64455d",
   "metadata": {},
   "outputs": [
    {
     "data": {
      "text/plain": [
       "(8940, 8114)"
      ]
     },
     "execution_count": 88,
     "metadata": {},
     "output_type": "execute_result"
    }
   ],
   "source": [
    "user.count(), user_df.count()"
   ]
  },
  {
   "cell_type": "markdown",
   "id": "f4330442-5683-478f-b5d8-f12dff0edc52",
   "metadata": {},
   "source": [
    "### 2. Update record"
   ]
  },
  {
   "cell_type": "code",
   "execution_count": 159,
   "id": "359faf6d-f4d5-42d6-bebe-6a45cab5039b",
   "metadata": {},
   "outputs": [],
   "source": [
    "new_user = (spark.read\n",
    "        .option(\"header\",\"true\")\n",
    "        # .option(\"recursiveFileLookup\",\"true\")\n",
    "        .parquet(\"./Spark_mock_project/datalake/test/user/2021-11-21\")\n",
    "        .withColumn(\"updatedTime\", to_date(col(\"updatedTime\"), \"yyyy-MM-dd HH:mm:ss.SSS\"))\n",
    "        .withColumn(\"birthdate\", to_date(col(\"birthdate\")))\n",
    "        .withColumn(\"Age\", floor(datediff(current_date(), col(\"birthdate\"))/365.25)))"
   ]
  },
  {
   "cell_type": "code",
   "execution_count": 164,
   "id": "81ed7da2-abd2-4c25-ba3e-71b841422780",
   "metadata": {},
   "outputs": [
    {
     "data": {
      "text/plain": [
       "8566"
      ]
     },
     "execution_count": 164,
     "metadata": {},
     "output_type": "execute_result"
    }
   ],
   "source": [
    "final_user = user_df.union(new_user)\n",
    "final_user.count()"
   ]
  },
  {
   "cell_type": "code",
   "execution_count": 165,
   "id": "d7e2f127-f74c-42f5-af05-616ff38de7fd",
   "metadata": {},
   "outputs": [],
   "source": [
    "w = Window.partitionBy(final_user.userid).orderBy(final_user.updatedTime.desc())\n",
    "final_user = final_user.withColumn(\"row_number\", row_number().over(w)).filter(col(\"row_number\")==1).drop(\"row_number\")"
   ]
  },
  {
   "cell_type": "code",
   "execution_count": 183,
   "id": "055f15e9-77ae-4d49-bf1a-4be58e4ee14d",
   "metadata": {},
   "outputs": [],
   "source": [
    "final_user = final_user.withColumn(\"Age\", floor(datediff(current_date(), col(\"birthdate\"))/365.25))"
   ]
  },
  {
   "cell_type": "code",
   "execution_count": 184,
   "id": "d46433a2-335a-4301-9dd2-8f47859bb215",
   "metadata": {},
   "outputs": [
    {
     "data": {
      "text/plain": [
       "8482"
      ]
     },
     "execution_count": 184,
     "metadata": {},
     "output_type": "execute_result"
    }
   ],
   "source": [
    "final_user.count()"
   ]
  },
  {
   "cell_type": "markdown",
   "id": "14cf6744-ae94-4dd4-9e12-acd8106f4bf2",
   "metadata": {},
   "source": [
    "## User payment"
   ]
  },
  {
   "cell_type": "markdown",
   "id": "d342f77c-3521-44f6-afca-1a4d00cfd019",
   "metadata": {},
   "source": [
    "### 1. Integrate"
   ]
  },
  {
   "cell_type": "code",
   "execution_count": 91,
   "id": "e1fe6f73-8712-4b52-b3e1-96ede02d9893",
   "metadata": {},
   "outputs": [],
   "source": [
    "tran = (spark.read\n",
    "        .option(\"header\",\"true\")\n",
    "        .option(\"recursiveFileLookup\",\"true\")\n",
    "        .parquet(\"./Spark_mock_project/datalake/transaction\")\n",
    "        .filter(\"transStatus = 1\")\n",
    "        .withColumn(\"transactionTime\", unix_timestamp(col(\"transactionTime\"), \"yyyy-MM-dd HH:mm:ss.SSS\").cast(\"timestamp\")))"
   ]
  },
  {
   "cell_type": "code",
   "execution_count": 93,
   "id": "42ff2be9-2454-4bb5-a6b6-95d367e3184d",
   "metadata": {},
   "outputs": [
    {
     "name": "stdout",
     "output_type": "stream",
     "text": [
      "+--------------------+-----------+------+-------------------+-----+---------+-------+-----+\n",
      "|             transId|transStatus|userId|    transactionTime|appId|transType| amount|pmcId|\n",
      "+--------------------+-----------+------+-------------------+-----+---------+-------+-----+\n",
      "|20211105-81405105...|          1|  8562|2021-11-05 16:53:28|    5|        5|8709973|    2|\n",
      "|20211105-56578372...|          1| 22580|2021-11-05 06:47:11|    1|        1|1860312|    3|\n",
      "|20211105--6905617...|          1| 22781|2021-11-05 10:14:18|    5|        5|6527582|    2|\n",
      "+--------------------+-----------+------+-------------------+-----+---------+-------+-----+\n",
      "only showing top 3 rows\n",
      "\n"
     ]
    }
   ],
   "source": [
    "tran.show(3)"
   ]
  },
  {
   "cell_type": "code",
   "execution_count": 98,
   "id": "7b2d71e7-6371-4a23-8233-149b763ab263",
   "metadata": {},
   "outputs": [],
   "source": [
    "paymentDate = (tran\n",
    "    .filter(\"transType = 3\")\n",
    "    .groupBy(\"userId\")\n",
    "    .agg(min(\"transactionTime\").alias(\"fistPaymentDate\"), max(\"transactionTime\").alias(\"transactionTime\")))"
   ]
  },
  {
   "cell_type": "code",
   "execution_count": 99,
   "id": "7806d274-96ff-4e2d-a8c3-93d57f4c9549",
   "metadata": {},
   "outputs": [],
   "source": [
    "payment = (paymentDate.join(tran.filter(\"transType = 3\"), [\"userId\", \"transactionTime\"])\n",
    "    .withColumnRenamed(\"transactionTime\", \"lastPaymentDate\")\n",
    "    .withColumnRenamed(\"appId\", \"lastPaymentApp\")\n",
    "    .select(\"userId\", \"fistPaymentDate\", \"lastPaymentDate\", \"lastPaymentApp\"))"
   ]
  },
  {
   "cell_type": "code",
   "execution_count": 100,
   "id": "d93b7e76-ea0b-480a-9c34-f53f89d6162e",
   "metadata": {},
   "outputs": [
    {
     "name": "stdout",
     "output_type": "stream",
     "text": [
      "+------+-------------------+-------------------+--------------+\n",
      "|userId|    fistPaymentDate|    lastPaymentDate|lastPaymentApp|\n",
      "+------+-------------------+-------------------+--------------+\n",
      "| 11992|2021-11-05 09:51:52|2021-11-05 09:51:52|           107|\n",
      "| 28874|2021-11-05 05:09:38|2021-11-05 22:01:10|            92|\n",
      "| 30413|2021-11-05 06:09:54|2021-11-05 06:09:54|            58|\n",
      "+------+-------------------+-------------------+--------------+\n",
      "only showing top 3 rows\n",
      "\n"
     ]
    }
   ],
   "source": [
    "payment.show(3)"
   ]
  },
  {
   "cell_type": "markdown",
   "id": "67860878-bd29-4720-bd32-151de3336e89",
   "metadata": {},
   "source": [
    "### 2. Update record"
   ]
  },
  {
   "cell_type": "code",
   "execution_count": 178,
   "id": "b9520a53-c225-4236-9fdc-7abb51987d3d",
   "metadata": {},
   "outputs": [],
   "source": [
    "new_tran = (spark.read\n",
    "        .option(\"header\",\"true\")\n",
    "        # .option(\"recursiveFileLookup\",\"true\")\n",
    "        .parquet(\"./Spark_mock_project/datalake/test/transaction/2021-11-21\")\n",
    "        .filter(\"transStatus = 1\")\n",
    "        .withColumn(\"transactionTime\", unix_timestamp(col(\"transactionTime\"), \"yyyy-MM-dd HH:mm:ss.SSS\").cast(\"timestamp\")))"
   ]
  },
  {
   "cell_type": "code",
   "execution_count": 179,
   "id": "e9edec08-6052-4ace-8b6a-8524d6ae18d1",
   "metadata": {},
   "outputs": [],
   "source": [
    "new_payment = (new_tran\n",
    "    .filter(\"transType = 3\")\n",
    "    .withColumn(\"fistPaymentDate\", col(\"transactionTime\"))\n",
    "    .withColumnRenamed(\"transactionTime\", \"lastPaymentDate\")\n",
    "    .withColumnRenamed(\"appId\", \"lastPaymentApp\")\n",
    "    .select(\"userId\", \"fistPaymentDate\", \"lastPaymentDate\", \"lastPaymentApp\"))"
   ]
  },
  {
   "cell_type": "code",
   "execution_count": 176,
   "id": "2f2322c4-2251-4609-8490-8c60ce1c1801",
   "metadata": {},
   "outputs": [
    {
     "name": "stdout",
     "output_type": "stream",
     "text": [
      "+------+--------------------+--------------------+--------------+\n",
      "|userId|     fistPaymentDate|     lastPaymentDate|lastPaymentApp|\n",
      "+------+--------------------+--------------------+--------------+\n",
      "| 16893|2021-11-22 01:59:...|2021-11-22 01:59:...|           106|\n",
      "|  2604|2021-11-22 11:23:...|2021-11-22 11:23:...|            65|\n",
      "| 12280|2021-11-22 09:44:...|2021-11-22 09:44:...|            19|\n",
      "+------+--------------------+--------------------+--------------+\n",
      "only showing top 3 rows\n",
      "\n"
     ]
    }
   ],
   "source": [
    "new_payment.show(3)"
   ]
  },
  {
   "cell_type": "code",
   "execution_count": 189,
   "id": "969ed5fd-755e-4010-ad06-04e3c39058c9",
   "metadata": {},
   "outputs": [],
   "source": [
    "union_payment = payment.union(new_payment)"
   ]
  },
  {
   "cell_type": "code",
   "execution_count": 204,
   "id": "e5915725-846d-49bf-a3a8-62608ed31658",
   "metadata": {},
   "outputs": [],
   "source": [
    "w = Window.partitionBy(\"userId\")\n",
    "final_payment = (union_payment.withColumn(\"firstDate\", min(\"fistPaymentDate\").over(w))\n",
    "    .withColumn(\"lastDate\", max(\"lastPaymentDate\").over(w))\n",
    "    .filter(\"lastPaymentDate = lastDate\")\n",
    "    .select(\"userId\", \"firstDate\", \"lastDate\", \"lastPaymentApp\")\n",
    "    .withColumnRenamed(\"firstDate\", \"fistPaymentDate\")\n",
    "    .withColumnRenamed(\"lastDate\", \"lastPaymentDate\"))"
   ]
  },
  {
   "cell_type": "code",
   "execution_count": 205,
   "id": "918d186b-6605-4560-ad60-1f4796070e80",
   "metadata": {},
   "outputs": [
    {
     "name": "stdout",
     "output_type": "stream",
     "text": [
      "+------+-------------------+-------------------+--------------+\n",
      "|userId|    fistPaymentDate|    lastPaymentDate|lastPaymentApp|\n",
      "+------+-------------------+-------------------+--------------+\n",
      "| 18130|2021-11-07 12:37:18|2021-11-07 12:37:18|            60|\n",
      "| 18574|2021-11-10 03:53:22|2021-11-10 03:53:22|            93|\n",
      "| 18992|2021-11-15 00:12:41|2021-11-15 00:12:41|            23|\n",
      "+------+-------------------+-------------------+--------------+\n",
      "only showing top 3 rows\n",
      "\n"
     ]
    }
   ],
   "source": [
    "final_payment.show(3)"
   ]
  },
  {
   "cell_type": "code",
   "execution_count": 207,
   "id": "51f435d7-ae9c-4d1a-adc0-04b707f89a46",
   "metadata": {},
   "outputs": [
    {
     "data": {
      "text/plain": [
       "(4121, 238, 4359, 4335)"
      ]
     },
     "execution_count": 207,
     "metadata": {},
     "output_type": "execute_result"
    }
   ],
   "source": [
    "payment.count(), new_payment.count(), union_payment.count(), final_payment.count()"
   ]
  },
  {
   "cell_type": "markdown",
   "id": "201d325a-3bc3-496c-bdb8-a9edc09926ec",
   "metadata": {},
   "source": [
    "## User activity"
   ]
  },
  {
   "cell_type": "markdown",
   "id": "5fc50655-e512-43ea-a312-d63157ac1e67",
   "metadata": {},
   "source": [
    "### 1. Integrate"
   ]
  },
  {
   "cell_type": "code",
   "execution_count": 102,
   "id": "b706c389-332b-44f2-9fe5-e04e40173ad8",
   "metadata": {},
   "outputs": [],
   "source": [
    "activeDate = (tran\n",
    "    .groupBy(\"userId\")\n",
    "    .agg(min(\"transactionTime\").alias(\"fistActiveDate\"), max(\"transactionTime\").alias(\"transactionTime\")))"
   ]
  },
  {
   "cell_type": "code",
   "execution_count": 212,
   "id": "fe120ac4-f490-4393-a0a8-d4991460a97b",
   "metadata": {},
   "outputs": [
    {
     "name": "stdout",
     "output_type": "stream",
     "text": [
      "+------+-------------------+-------------------+\n",
      "|userId|     fistActiveDate|    transactionTime|\n",
      "+------+-------------------+-------------------+\n",
      "| 19338|2021-11-05 07:45:22|2021-11-05 07:45:22|\n",
      "| 16250|2021-11-05 12:45:59|2021-11-05 12:45:59|\n",
      "|  3210|2021-11-03 04:29:52|2021-11-05 08:09:41|\n",
      "+------+-------------------+-------------------+\n",
      "only showing top 3 rows\n",
      "\n"
     ]
    }
   ],
   "source": [
    "activeDate.show(3)"
   ]
  },
  {
   "cell_type": "code",
   "execution_count": 106,
   "id": "cf670e53-646c-4f8e-9b48-a2294acd2498",
   "metadata": {},
   "outputs": [],
   "source": [
    "active = (activeDate.join(tran, [\"userId\", \"transactionTime\"])\n",
    "    .withColumnRenamed(\"transactionTime\", \"lastActiveDAte\")\n",
    "    .withColumnRenamed(\"appId\", \"lastApp\")\n",
    "    .withColumnRenamed(\"transType\", \"lastTransType\")\n",
    "    .select(\"userId\", \"fistActiveDate\", \"lastActiveDAte\", \"lastTransType\"))"
   ]
  },
  {
   "cell_type": "code",
   "execution_count": 218,
   "id": "e5bd9a35-c7e1-4561-afa6-db7f34680e3a",
   "metadata": {},
   "outputs": [
    {
     "name": "stdout",
     "output_type": "stream",
     "text": [
      "+------+-------------------+-------------------+-------------+\n",
      "|userId|     fistActiveDate|     lastActiveDAte|lastTransType|\n",
      "+------+-------------------+-------------------+-------------+\n",
      "|  8562|2021-11-05 16:53:28|2021-11-05 16:53:28|            5|\n",
      "|  3999|2021-11-05 19:51:37|2021-11-05 19:51:37|            2|\n",
      "| 11992|2021-11-05 09:51:52|2021-11-05 09:51:52|            3|\n",
      "+------+-------------------+-------------------+-------------+\n",
      "only showing top 3 rows\n",
      "\n"
     ]
    }
   ],
   "source": [
    "active.show(3)"
   ]
  },
  {
   "cell_type": "markdown",
   "id": "3f97a33c-7ff1-42b1-b772-32cdcbdd1279",
   "metadata": {},
   "source": [
    "### 2. Update record"
   ]
  },
  {
   "cell_type": "code",
   "execution_count": 216,
   "id": "d199f70f-73b3-478d-91fa-090805796486",
   "metadata": {},
   "outputs": [],
   "source": [
    "new_active = (new_tran\n",
    "    .withColumn(\"fistActiveDate\", col(\"transactionTime\"))\n",
    "    .withColumnRenamed(\"transactionTime\", \"lastActiveDAte\")\n",
    "    .withColumnRenamed(\"transType\", \"lastTransType\")\n",
    "    .select(\"userId\", \"fistActiveDate\", \"lastActiveDAte\", \"lastTransType\"))"
   ]
  },
  {
   "cell_type": "code",
   "execution_count": 215,
   "id": "c6aa48ff-2e1e-4eb6-8674-3ecc8e5df894",
   "metadata": {},
   "outputs": [],
   "source": [
    "union_active = active.union(new_active)"
   ]
  },
  {
   "cell_type": "code",
   "execution_count": 220,
   "id": "c4dd7d65-b4f2-4f8a-9d9a-87c0d964d4b7",
   "metadata": {},
   "outputs": [],
   "source": [
    "w = Window.partitionBy(\"userId\")\n",
    "final_active = (union_active.withColumn(\"firstDate\", min(\"fistActiveDate\").over(w))\n",
    "    .withColumn(\"lastDate\", max(\"lastActiveDAte\").over(w))\n",
    "    .filter(\"lastActiveDAte = lastDate\")\n",
    "    .select(\"userId\", \"firstDate\", \"lastDate\", \"lastTransType\")\n",
    "    .withColumnRenamed(\"firstDate\", \"fistActiveDate\")\n",
    "    .withColumnRenamed(\"lastDate\", \"lastActiveDAte\"))"
   ]
  },
  {
   "cell_type": "code",
   "execution_count": 221,
   "id": "824dabc6-38eb-4e95-949c-058e2162a9d2",
   "metadata": {},
   "outputs": [
    {
     "name": "stdout",
     "output_type": "stream",
     "text": [
      "+------+-------------------+-------------------+-------------+\n",
      "|userId|     fistActiveDate|     lastActiveDAte|lastTransType|\n",
      "+------+-------------------+-------------------+-------------+\n",
      "| 10096|2021-11-09 10:11:05|2021-11-09 10:11:05|            2|\n",
      "|  1159|2021-11-21 00:07:03|2021-11-21 00:07:03|            5|\n",
      "| 13282|2021-11-06 03:22:36|2021-11-06 03:22:36|            4|\n",
      "+------+-------------------+-------------------+-------------+\n",
      "only showing top 3 rows\n",
      "\n"
     ]
    }
   ],
   "source": [
    "final_active.show(3)"
   ]
  },
  {
   "cell_type": "code",
   "execution_count": 222,
   "id": "b26d68b0-d32c-42d1-9b10-a84c0698db89",
   "metadata": {},
   "outputs": [
    {
     "data": {
      "text/plain": [
       "(17080, 1105, 18185, 17729)"
      ]
     },
     "execution_count": 222,
     "metadata": {},
     "output_type": "execute_result"
    }
   ],
   "source": [
    "active.count(), new_active.count(), union_active.count(), final_active.count()"
   ]
  },
  {
   "cell_type": "markdown",
   "id": "cbf2cc06-e142-4647-8791-55f959c19544",
   "metadata": {},
   "source": [
    "## App list"
   ]
  },
  {
   "cell_type": "markdown",
   "id": "d1bbad1c-4f15-40c9-bb57-54dcfe134db6",
   "metadata": {},
   "source": [
    "### 1. Integrate"
   ]
  },
  {
   "cell_type": "code",
   "execution_count": 108,
   "id": "636241c5-48a5-4ffc-9f1f-e14850b27189",
   "metadata": {},
   "outputs": [],
   "source": [
    "userApp = tran.select(\"userId\", \"appId\").distinct()"
   ]
  },
  {
   "cell_type": "code",
   "execution_count": 111,
   "id": "7945712f-d172-4374-9656-be8d35a46fab",
   "metadata": {},
   "outputs": [
    {
     "name": "stdout",
     "output_type": "stream",
     "text": [
      "+------+-----+\n",
      "|userId|appId|\n",
      "+------+-----+\n",
      "| 38849|    5|\n",
      "|  2945|    5|\n",
      "| 23198|    4|\n",
      "+------+-----+\n",
      "only showing top 3 rows\n",
      "\n"
     ]
    }
   ],
   "source": [
    "userApp.show(3)"
   ]
  },
  {
   "cell_type": "markdown",
   "id": "f7a7ea81-4130-4e70-953d-c844efcce8fb",
   "metadata": {},
   "source": [
    "### 2. Update record"
   ]
  },
  {
   "cell_type": "code",
   "execution_count": 229,
   "id": "385db13f-0bc3-4370-940d-1719acdb85ef",
   "metadata": {},
   "outputs": [],
   "source": [
    "new_userApp = new_tran.select(\"userId\", \"appId\")\n",
    "union_userApp = userApp.union(new_userApp)\n",
    "final_userApp = union_userApp.distinct()"
   ]
  },
  {
   "cell_type": "code",
   "execution_count": 226,
   "id": "5d696a7d-318b-4ffd-b3e8-ff9bbf7af789",
   "metadata": {},
   "outputs": [
    {
     "data": {
      "text/plain": [
       "(21208, 1105, 22313, 22226)"
      ]
     },
     "execution_count": 226,
     "metadata": {},
     "output_type": "execute_result"
    }
   ],
   "source": [
    "userApp.count(), new_userApp.count(), union_userApp.count(), final_userApp.count()"
   ]
  },
  {
   "cell_type": "markdown",
   "id": "bcf973c7-e37f-4a0e-b826-1e5e9eb52a0b",
   "metadata": {
    "tags": []
   },
   "source": [
    "## Source payment"
   ]
  },
  {
   "cell_type": "markdown",
   "id": "0a18e492-7d7d-4915-8dcf-d60b102f684f",
   "metadata": {},
   "source": [
    "### 1. Integrate"
   ]
  },
  {
   "cell_type": "code",
   "execution_count": 112,
   "id": "bac87efa-fe43-4314-bec5-d48de4412be2",
   "metadata": {},
   "outputs": [],
   "source": [
    "userPmc = tran.select(\"userId\", \"pmcId\").distinct()"
   ]
  },
  {
   "cell_type": "code",
   "execution_count": 113,
   "id": "6ddcb157-e9d1-4926-ab09-e29bde31512b",
   "metadata": {},
   "outputs": [
    {
     "name": "stdout",
     "output_type": "stream",
     "text": [
      "+------+-----+\n",
      "|userId|pmcId|\n",
      "+------+-----+\n",
      "| 39053|    4|\n",
      "| 20012|    1|\n",
      "| 29482|    1|\n",
      "+------+-----+\n",
      "only showing top 3 rows\n",
      "\n"
     ]
    }
   ],
   "source": [
    "userPmc.show(3)"
   ]
  },
  {
   "cell_type": "markdown",
   "id": "1e1a5c6a-1c7f-4ea6-a52d-4cfd0d52b5d2",
   "metadata": {
    "tags": []
   },
   "source": [
    "### 2. Update record"
   ]
  },
  {
   "cell_type": "code",
   "execution_count": 230,
   "id": "89456e39-56a5-4f38-b9f8-48ab156c4aec",
   "metadata": {},
   "outputs": [],
   "source": [
    "new_userPmc = new_tran.select(\"userId\", \"pmcId\")\n",
    "union_userPmc = userPmc.union(new_userPmc)\n",
    "final_userPmc = union_userPmc.distinct()"
   ]
  },
  {
   "cell_type": "code",
   "execution_count": 231,
   "id": "cb1728b2-f0f6-4aff-8734-d792087789ef",
   "metadata": {},
   "outputs": [
    {
     "data": {
      "text/plain": [
       "(20663, 1105, 22313, 21609)"
      ]
     },
     "execution_count": 231,
     "metadata": {},
     "output_type": "execute_result"
    }
   ],
   "source": [
    "userPmc.count(), new_userPmc.count(), union_userApp.count(), final_userPmc.count()"
   ]
  },
  {
   "cell_type": "markdown",
   "id": "db8961e6-a7fb-499f-b9e1-c0fcc5833abe",
   "metadata": {},
   "source": [
    "## Promotion"
   ]
  },
  {
   "cell_type": "markdown",
   "id": "25c147dd-b2c7-4648-8b16-7db163c32fd4",
   "metadata": {},
   "source": [
    "### 1. Integrate"
   ]
  },
  {
   "cell_type": "code",
   "execution_count": 145,
   "id": "07df437e-2bf7-4a3a-bcd1-9f9b9689eab4",
   "metadata": {
    "tags": []
   },
   "outputs": [],
   "source": [
    "prom = (spark.read\n",
    "        .option(\"header\",\"true\")\n",
    "        .option(\"recursiveFileLookup\",\"true\")\n",
    "        .parquet(\"./Spark_mock_project/datalake/promotion\")\n",
    "        .withColumn(\"time\", unix_timestamp(col(\"time\"), \"yyyy-MM-dd HH:mm:ss.SSS\")))"
   ]
  },
  {
   "cell_type": "code",
   "execution_count": 146,
   "id": "33ae4cae-9ced-485b-9e30-7b82cf00eccf",
   "metadata": {},
   "outputs": [
    {
     "name": "stdout",
     "output_type": "stream",
     "text": [
      "+------+-----------+------+----------+----------+\n",
      "|userid|voucherCode|status|campaignID|      time|\n",
      "+------+-----------+------+----------+----------+\n",
      "| 18710|    1005-43| GIVEN|      1005|1636932816|\n",
      "| 12966|    1001-60| GIVEN|      1001|1636924987|\n",
      "|  7302|   1000-119| GIVEN|      1000|1636992179|\n",
      "+------+-----------+------+----------+----------+\n",
      "only showing top 3 rows\n",
      "\n"
     ]
    }
   ],
   "source": [
    "prom.show(3)"
   ]
  },
  {
   "cell_type": "code",
   "execution_count": 138,
   "id": "981c55b2-c3f7-4779-90cb-08f65ea61115",
   "metadata": {},
   "outputs": [],
   "source": [
    "camp = (spark.read\n",
    "    .option(\"sep\", \"\\t\")\n",
    "    .option(\"header\", \"true\")\n",
    "    .csv(\"./Spark_mock_project/datalake/campaign.csv\")\n",
    "    .withColumn(\"expireDate\", unix_timestamp(col(\"expireDate\"), \"yyyy-MM-dd HH:mm:ss\").cast(\"timestamp\"))\n",
    "    .withColumn(\"expireTime\", col(\"expireTime\").cast(\"Integer\")))"
   ]
  },
  {
   "cell_type": "code",
   "execution_count": 140,
   "id": "bd803f89-452f-4ca4-90cd-a22bdd4a2d3b",
   "metadata": {
    "tags": []
   },
   "outputs": [
    {
     "name": "stdout",
     "output_type": "stream",
     "text": [
      "+----------+------------+-------------------+----------+\n",
      "|campaignID|campaignType|         expireDate|expireTime|\n",
      "+----------+------------+-------------------+----------+\n",
      "|      1000|           1|2022-01-01 00:00:00|         0|\n",
      "|      1001|           1|2022-01-01 00:00:00|         0|\n",
      "|      1002|           1|2022-01-01 00:00:00|         0|\n",
      "+----------+------------+-------------------+----------+\n",
      "only showing top 3 rows\n",
      "\n"
     ]
    }
   ],
   "source": [
    "camp.show(3)"
   ]
  },
  {
   "cell_type": "code",
   "execution_count": 147,
   "id": "2257b626-79cb-4369-b024-c176ca126ec4",
   "metadata": {},
   "outputs": [],
   "source": [
    "promotion = (prom.join(camp, \"campaignID\")\n",
    "    .withColumn(\"voucherExpire\", (col(\"time\") + col(\"expireTime\")).cast(\"timestamp\"))\n",
    "    .withColumn(\"time\", col(\"time\").cast(\"timestamp\")))"
   ]
  },
  {
   "cell_type": "code",
   "execution_count": 148,
   "id": "4c1d037d-7136-40f6-aa65-1c17e446c9f3",
   "metadata": {},
   "outputs": [
    {
     "name": "stdout",
     "output_type": "stream",
     "text": [
      "+----------+------+-----------+------+-------------------+------------+-------------------+----------+-------------------+\n",
      "|campaignID|userid|voucherCode|status|               time|campaignType|         expireDate|expireTime|      voucherExpire|\n",
      "+----------+------+-----------+------+-------------------+------------+-------------------+----------+-------------------+\n",
      "|      1005| 18710|    1005-43| GIVEN|2021-11-15 06:33:36|           1|2022-01-01 00:00:00|         0|2021-11-15 06:33:36|\n",
      "|      1001| 12966|    1001-60| GIVEN|2021-11-15 04:23:07|           1|2022-01-01 00:00:00|         0|2021-11-15 04:23:07|\n",
      "|      1000|  7302|   1000-119| GIVEN|2021-11-15 23:02:59|           1|2022-01-01 00:00:00|         0|2021-11-15 23:02:59|\n",
      "+----------+------+-----------+------+-------------------+------------+-------------------+----------+-------------------+\n",
      "only showing top 3 rows\n",
      "\n"
     ]
    }
   ],
   "source": [
    "promotion.show(3)"
   ]
  },
  {
   "cell_type": "code",
   "execution_count": 233,
   "id": "93e46171-8eff-4cb9-bde1-91196886eabe",
   "metadata": {},
   "outputs": [],
   "source": [
    "userPromotion = (promotion.withColumn(\"actualExpire\", when((col(\"campaignType\")==\"2\") & \n",
    "                                                              (col(\"expireDate\") > col(\"voucherExpire\")), col(\"voucherExpire\"))\n",
    "                     .otherwise(col(\"expireDate\")))\n",
    "    .withColumn(\"Expire\", current_date() > col(\"actualExpire\"))\n",
    "    .select(\"userid\", \"campaignID\", \"status\", \"Expire\"))"
   ]
  },
  {
   "cell_type": "code",
   "execution_count": 244,
   "id": "2d368617-7334-4ac0-97ce-2889b05e1d15",
   "metadata": {},
   "outputs": [
    {
     "data": {
      "text/plain": [
       "19947"
      ]
     },
     "execution_count": 244,
     "metadata": {},
     "output_type": "execute_result"
    }
   ],
   "source": [
    "userPromotion.count()"
   ]
  },
  {
   "cell_type": "code",
   "execution_count": 245,
   "id": "6853b2fc-74bc-4848-80d6-680f9dfbc81a",
   "metadata": {},
   "outputs": [],
   "source": [
    "userPromotion = userPromotion.distinct()"
   ]
  },
  {
   "cell_type": "code",
   "execution_count": 246,
   "id": "5a8d75cf-8a3b-4252-892d-a902413ec0a5",
   "metadata": {},
   "outputs": [
    {
     "data": {
      "text/plain": [
       "18998"
      ]
     },
     "execution_count": 246,
     "metadata": {},
     "output_type": "execute_result"
    }
   ],
   "source": [
    "userPromotion.count()"
   ]
  },
  {
   "cell_type": "code",
   "execution_count": 247,
   "id": "2f777624-95c3-4d5e-a4f7-2dcd7cd65760",
   "metadata": {},
   "outputs": [
    {
     "name": "stdout",
     "output_type": "stream",
     "text": [
      "+------+----------+------+------+\n",
      "|userid|campaignID|status|Expire|\n",
      "+------+----------+------+------+\n",
      "|  8057|      1006| GIVEN|  true|\n",
      "| 14268|      1000| GIVEN|  true|\n",
      "| 16801|      1003| GIVEN|  true|\n",
      "+------+----------+------+------+\n",
      "only showing top 3 rows\n",
      "\n"
     ]
    }
   ],
   "source": [
    "userPromotion.show(3)"
   ]
  },
  {
   "cell_type": "markdown",
   "id": "cbaee6c1-cc36-400c-b6a1-df2cd562d7e3",
   "metadata": {
    "tags": []
   },
   "source": [
    "### 2. Update record"
   ]
  },
  {
   "cell_type": "code",
   "execution_count": 235,
   "id": "21b1f1df-943b-49ab-bde1-ba26720c345c",
   "metadata": {
    "tags": []
   },
   "outputs": [],
   "source": [
    "new_prom = (spark.read\n",
    "        .option(\"header\",\"true\")\n",
    "        .parquet(\"./Spark_mock_project/datalake/test/promotion/2021-11-21\")\n",
    "        .withColumn(\"time\", unix_timestamp(col(\"time\"), \"yyyy-MM-dd HH:mm:ss.SSS\")))"
   ]
  },
  {
   "cell_type": "code",
   "execution_count": 236,
   "id": "5060420a-7f22-46e3-96ae-5ecc4bdf065f",
   "metadata": {},
   "outputs": [
    {
     "name": "stdout",
     "output_type": "stream",
     "text": [
      "+------+-----------+------+----------+----------+\n",
      "|userid|voucherCode|status|campaignID|      time|\n",
      "+------+-----------+------+----------+----------+\n",
      "|  6279|     1003-1| GIVEN|      1003|1637489477|\n",
      "| 15400|     1006-2| GIVEN|      1006|1637477346|\n",
      "|  9156|    1004-35| GIVEN|      1004|1637513984|\n",
      "+------+-----------+------+----------+----------+\n",
      "only showing top 3 rows\n",
      "\n"
     ]
    }
   ],
   "source": [
    "new_prom.show(3)"
   ]
  },
  {
   "cell_type": "code",
   "execution_count": 138,
   "id": "c6cf5ccd-af36-4d19-b58f-e31b013790a7",
   "metadata": {},
   "outputs": [],
   "source": [
    "camp = (spark.read\n",
    "    .option(\"sep\", \"\\t\")\n",
    "    .option(\"header\", \"true\")\n",
    "    .csv(\"./Spark_mock_project/datalake/campaign.csv\")\n",
    "    .withColumn(\"expireDate\", unix_timestamp(col(\"expireDate\"), \"yyyy-MM-dd HH:mm:ss\").cast(\"timestamp\"))\n",
    "    .withColumn(\"expireTime\", col(\"expireTime\").cast(\"Integer\")))"
   ]
  },
  {
   "cell_type": "code",
   "execution_count": 237,
   "id": "2d246138-53e7-42d2-96da-2494b228981a",
   "metadata": {},
   "outputs": [],
   "source": [
    "new_promotion = (new_prom.join(camp, \"campaignID\")\n",
    "    .withColumn(\"voucherExpire\", (col(\"time\") + col(\"expireTime\")).cast(\"timestamp\"))\n",
    "    .withColumn(\"time\", col(\"time\").cast(\"timestamp\")))"
   ]
  },
  {
   "cell_type": "code",
   "execution_count": 238,
   "id": "6142e414-1e25-4800-92e2-fb273df64b9c",
   "metadata": {},
   "outputs": [
    {
     "name": "stdout",
     "output_type": "stream",
     "text": [
      "+----------+------+-----------+------+-------------------+------------+-------------------+----------+-------------------+\n",
      "|campaignID|userid|voucherCode|status|               time|campaignType|         expireDate|expireTime|      voucherExpire|\n",
      "+----------+------+-----------+------+-------------------+------------+-------------------+----------+-------------------+\n",
      "|      1003|  6279|     1003-1| GIVEN|2021-11-21 17:11:17|           1|2022-01-01 00:00:00|         0|2021-11-21 17:11:17|\n",
      "|      1006| 15400|     1006-2| GIVEN|2021-11-21 13:49:06|           2|2022-01-01 00:00:00|   6048000|2022-01-30 13:49:06|\n",
      "|      1004|  9156|    1004-35| GIVEN|2021-11-21 23:59:44|           1|2022-01-01 00:00:00|         0|2021-11-21 23:59:44|\n",
      "+----------+------+-----------+------+-------------------+------------+-------------------+----------+-------------------+\n",
      "only showing top 3 rows\n",
      "\n"
     ]
    }
   ],
   "source": [
    "new_promotion.show(3)"
   ]
  },
  {
   "cell_type": "code",
   "execution_count": 248,
   "id": "855fd824-e8e3-411e-909b-fa6ff71d63f1",
   "metadata": {},
   "outputs": [],
   "source": [
    "new_userPromotion = (new_promotion.withColumn(\"actualExpire\", when((col(\"campaignType\")==\"2\") & \n",
    "                                                              (col(\"expireDate\") > col(\"voucherExpire\")), col(\"voucherExpire\"))\n",
    "                     .otherwise(col(\"expireDate\")))\n",
    "    .withColumn(\"Expire\", current_date() > col(\"actualExpire\"))\n",
    "    .select(\"userid\", \"campaignID\", \"status\", \"Expire\"))"
   ]
  },
  {
   "cell_type": "code",
   "execution_count": 249,
   "id": "502ede00-f5f0-4d15-9398-9309db84f571",
   "metadata": {},
   "outputs": [],
   "source": [
    "union_userPromotion = userPromotion.union(new_userPromotion)\n",
    "final_userPromotion = union_userPromotion.distinct()"
   ]
  },
  {
   "cell_type": "code",
   "execution_count": 250,
   "id": "fad6291d-ffdc-412c-80f6-e8036cefc69b",
   "metadata": {},
   "outputs": [
    {
     "name": "stdout",
     "output_type": "stream",
     "text": [
      "+------+----------+------+------+\n",
      "|userid|campaignID|status|Expire|\n",
      "+------+----------+------+------+\n",
      "|  8057|      1006| GIVEN|  true|\n",
      "| 14268|      1000| GIVEN|  true|\n",
      "| 16801|      1003| GIVEN|  true|\n",
      "+------+----------+------+------+\n",
      "only showing top 3 rows\n",
      "\n"
     ]
    }
   ],
   "source": [
    "final_userPromotion.show(3)"
   ]
  },
  {
   "cell_type": "code",
   "execution_count": 251,
   "id": "9b09cf6f-5961-4205-8a8d-e595ae978ee3",
   "metadata": {},
   "outputs": [
    {
     "data": {
      "text/plain": [
       "(18998, 971, 19969, 19879)"
      ]
     },
     "execution_count": 251,
     "metadata": {},
     "output_type": "execute_result"
    }
   ],
   "source": [
    "userPromotion.count(), new_userPromotion.count(), union_userPromotion.count(), final_userPromotion.count()"
   ]
  },
  {
   "cell_type": "code",
   "execution_count": null,
   "id": "16fe2c64-842f-4c2b-8686-e0ec588e0304",
   "metadata": {},
   "outputs": [],
   "source": []
  }
 ],
 "metadata": {
  "kernelspec": {
   "display_name": "Python 3 (ipykernel)",
   "language": "python",
   "name": "python3"
  },
  "language_info": {
   "codemirror_mode": {
    "name": "ipython",
    "version": 3
   },
   "file_extension": ".py",
   "mimetype": "text/x-python",
   "name": "python",
   "nbconvert_exporter": "python",
   "pygments_lexer": "ipython3",
   "version": "3.9.7"
  }
 },
 "nbformat": 4,
 "nbformat_minor": 5
}
