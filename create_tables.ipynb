{
  "nbformat": 4,
  "nbformat_minor": 0,
  "metadata": {
    "colab": {
      "name": "Untitled0.ipynb",
      "provenance": [],
      "toc_visible": true
    },
    "kernelspec": {
      "name": "python3",
      "display_name": "Python 3"
    },
    "language_info": {
      "name": "python"
    }
  },
  "cells": [
    {
      "cell_type": "code",
      "source": [
        "!apt-get install openjdk-8-jdk-headless -qq > /dev/null\n",
        "!wget -q https://dlcdn.apache.org/spark/spark-3.2.1/spark-3.2.1-bin-hadoop3.2.tgz\n",
        "!tar xf spark-3.2.1-bin-hadoop3.2.tgz\n",
        "!pip install -q findspark"
      ],
      "metadata": {
        "id": "magXBr33cwsH"
      },
      "execution_count": null,
      "outputs": []
    },
    {
      "cell_type": "code",
      "source": [
        "import os\n",
        "os.environ[\"JAVA_HOME\"] = \"/usr/lib/jvm/java-8-openjdk-amd64\"\n",
        "os.environ[\"SPARK_HOME\"] = \"/content/spark-3.2.1-bin-hadoop3.2\""
      ],
      "metadata": {
        "id": "XEEjBFOpc0ry"
      },
      "execution_count": null,
      "outputs": []
    },
    {
      "cell_type": "code",
      "source": [
        "import findspark\n",
        "findspark.init()\n",
        "from pyspark.sql import SparkSession\n",
        "spark = SparkSession.builder.master(\"local[*]\").appName(\"firstSpark\").getOrCreate()"
      ],
      "metadata": {
        "id": "FGZwXSGcc2GE"
      },
      "execution_count": null,
      "outputs": []
    },
    {
      "cell_type": "code",
      "source": [
        "from functools import reduce\n",
        "from pyspark import SparkContext\n",
        "from pyspark.sql import SparkSession, Window, Row\n",
        "from pyspark.sql.functions import *\n",
        "from pyspark.sql.types import *"
      ],
      "metadata": {
        "id": "idv0WZJKc4U5"
      },
      "execution_count": null,
      "outputs": []
    },
    {
      "cell_type": "code",
      "source": [
        "import pandas as pd\n",
        "import numpy as np"
      ],
      "metadata": {
        "id": "sAr1lKJeY98P"
      },
      "execution_count": null,
      "outputs": []
    },
    {
      "cell_type": "markdown",
      "source": [
        "#Load data"
      ],
      "metadata": {
        "id": "3fbtqWkrzKKN"
      }
    },
    {
      "cell_type": "markdown",
      "source": [
        "##Promotion"
      ],
      "metadata": {
        "id": "406xNeD0pXZn"
      }
    },
    {
      "cell_type": "code",
      "source": [
        "campaign = spark.read.option(\"header\",\"true\").csv(\"/content/drive/MyDrive/2022/project/data/source/configs/campaign.csv\")\n",
        "campaign = campaign.select(split(col(\"campaignID\\tcampaignType\\texpireDate\\texpireTime\"),\"\\t\").getItem(0).alias(\"campaignID\"),\n",
        "                           split(col(\"campaignID\\tcampaignType\\texpireDate\\texpireTime\"),\"\\t\").getItem(1).alias(\"campaignType\"),\n",
        "                           split(col(\"campaignID\\tcampaignType\\texpireDate\\texpireTime\"),\"\\t\").getItem(2).alias(\"expireDate\"),\n",
        "                           split(col(\"campaignID\\tcampaignType\\texpireDate\\texpireTime\"),\"\\t\").getItem(3).alias(\"expireTime\")) \\\n",
        "                            .drop(\"campaignID\\tcampaignType\\texpireDate\\texpireTime\").cache()\n",
        "campaign.show(5)"
      ],
      "metadata": {
        "colab": {
          "base_uri": "https://localhost:8080/"
        },
        "id": "O4ZdMNO5ZGto",
        "outputId": "4db736e4-ad90-41c6-f580-a492bb3a359e"
      },
      "execution_count": null,
      "outputs": [
        {
          "output_type": "stream",
          "name": "stdout",
          "text": [
            "+----------+------------+-------------------+----------+\n",
            "|campaignID|campaignType|         expireDate|expireTime|\n",
            "+----------+------------+-------------------+----------+\n",
            "|      1000|           1|2022-01-01 00:00:00|         0|\n",
            "|      1001|           1|2022-01-01 00:00:00|         0|\n",
            "|      1002|           1|2022-01-01 00:00:00|         0|\n",
            "|      1003|           1|2022-01-01 00:00:00|         0|\n",
            "|      1004|           1|2022-01-01 00:00:00|         0|\n",
            "+----------+------------+-------------------+----------+\n",
            "only showing top 5 rows\n",
            "\n"
          ]
        }
      ]
    },
    {
      "cell_type": "code",
      "source": [
        "promotion = spark.read.option(\"header\",\"true\").csv(\"/content/drive/MyDrive/2022/project/data/source/promotions/2021-11-01/part-00000-802e6ae2-b27d-463b-a5c0-5b2d91ad831f-c000.csv\")\n",
        "promotion = promotion.select(split(col(\"userid\\tvoucherCode\\tstatus\\tcampaignID\\ttime\"),\"\\t\").getItem(0).alias(\"userid\"),\n",
        "                           split(col(\"userid\\tvoucherCode\\tstatus\\tcampaignID\\ttime\"),\"\\t\").getItem(1).alias(\"voucherCode\"),\n",
        "                           split(col(\"userid\\tvoucherCode\\tstatus\\tcampaignID\\ttime\"),\"\\t\").getItem(2).alias(\"status\"),\n",
        "                           split(col(\"userid\\tvoucherCode\\tstatus\\tcampaignID\\ttime\"),\"\\t\").getItem(3).alias(\"campaignID\"),\n",
        "                           split(col(\"userid\\tvoucherCode\\tstatus\\tcampaignID\\ttime\"),\"\\t\").getItem(4).alias(\"time\")) \\\n",
        "                            .drop(\"userid\\tvoucherCode\\tstatus\\tcampaignID\\ttime\").cache()\n",
        "promotion.show(5)"
      ],
      "metadata": {
        "colab": {
          "base_uri": "https://localhost:8080/"
        },
        "id": "Wsbx4erudrua",
        "outputId": "d976a89a-4fa5-4b13-9c17-136fa8b998c9"
      },
      "execution_count": null,
      "outputs": [
        {
          "output_type": "stream",
          "name": "stdout",
          "text": [
            "+------+-----------+------+----------+--------------------+\n",
            "|userid|voucherCode|status|campaignID|                time|\n",
            "+------+-----------+------+----------+--------------------+\n",
            "|  3070|     1000-5| GIVEN|      1000|2021-11-01 13:31:...|\n",
            "|   355|     1008-8| GIVEN|      1008|2021-11-01 15:51:...|\n",
            "|  9006|    1004-40| GIVEN|      1004|2021-11-01 12:19:...|\n",
            "|  4891|    1008-86| GIVEN|      1008|2021-11-01 06:50:...|\n",
            "| 12531|   1000-103| GIVEN|      1000|2021-11-01 00:44:...|\n",
            "+------+-----------+------+----------+--------------------+\n",
            "only showing top 5 rows\n",
            "\n"
          ]
        }
      ]
    },
    {
      "cell_type": "markdown",
      "source": [
        "##Mapping"
      ],
      "metadata": {
        "id": "fUKK7j-DpcKN"
      }
    },
    {
      "cell_type": "code",
      "source": [
        "mapping_appid = spark.read.option(\"header\",\"true\").csv(\"/content/drive/MyDrive/2022/project/data/source/mapping/appid.csv\")\n",
        "mapping_appid = mapping_appid.select(split(col(\"appid appname\"),\"  \").getItem(0).alias(\"appid\"),\n",
        "                           split(col(\"appid appname\"),\"  \").getItem(1).alias(\"appname\"),\n",
        "                          ) \\\n",
        "                            .drop(\"appid appname\").cache()\n",
        "mapping_appid.show()"
      ],
      "metadata": {
        "colab": {
          "base_uri": "https://localhost:8080/"
        },
        "id": "d8WywdJVdBvi",
        "outputId": "89de120f-f194-496f-fc84-3359fc3596ca"
      },
      "execution_count": null,
      "outputs": [
        {
          "output_type": "stream",
          "name": "stdout",
          "text": [
            "+-----+-----------+\n",
            "|appid|    appname|\n",
            "+-----+-----------+\n",
            "|   10|      Telco|\n",
            "|   11|     Lazada|\n",
            "|   12|       Tiki|\n",
            "|   13|   Internet|\n",
            "|   14|Electricity|\n",
            "|   15|      Water|\n",
            "|   16|         TV|\n",
            "|   17|    123Phim|\n",
            "|   18|      123Go|\n",
            "|   19|     Shopee|\n",
            "|   20|    Dominos|\n",
            "|   21|       Game|\n",
            "|   22|      Bitis|\n",
            "+-----+-----------+\n",
            "\n"
          ]
        }
      ]
    },
    {
      "cell_type": "code",
      "source": [
        "mapping_gender = spark.read.option(\"header\",\"true\").csv(\"/content/drive/MyDrive/2022/project/data/source/mapping/gender.csv\")\n",
        "mapping_gender = mapping_gender.select(split(col(\"gender\\tgenderName\"),\"\\t\").getItem(0).alias(\"gender\"),\n",
        "                           split(col(\"gender\\tgenderName\"),\"\\t\").getItem(1).alias(\"genderName\"),\n",
        "                          ) \\\n",
        "                            .drop(\"gender\\tgenderName\").cache()\n",
        "mapping_gender.show(5)"
      ],
      "metadata": {
        "colab": {
          "base_uri": "https://localhost:8080/"
        },
        "id": "fmx6a_w9hPAO",
        "outputId": "040aa8ce-421d-460d-979e-561cf7f61467"
      },
      "execution_count": null,
      "outputs": [
        {
          "output_type": "stream",
          "name": "stdout",
          "text": [
            "+------+----------+\n",
            "|gender|genderName|\n",
            "+------+----------+\n",
            "|     1|      Male|\n",
            "|     2|    Female|\n",
            "+------+----------+\n",
            "\n"
          ]
        }
      ]
    },
    {
      "cell_type": "code",
      "source": [
        "map_profile = spark.read.option(\"header\",\"true\").csv(\"/content/drive/MyDrive/2022/project/data/source/mapping/profileLevel.csv\")\n",
        "map_profile = map_profile.select(split(col(\"profileLevel\\tprofileLevelName\"),\"\\t\").getItem(0).alias(\"profileLevel\"),\n",
        "                           split(col(\"profileLevel\\tprofileLevelName\"),\"\\t\").getItem(1).alias(\"profileLevelName\"),\n",
        "                          ) \\\n",
        "                            .drop(\"profileLevel\\tprofileLevelName\").cache()\n",
        "map_profile.show(5)"
      ],
      "metadata": {
        "colab": {
          "base_uri": "https://localhost:8080/"
        },
        "id": "LO1LAxDlddqK",
        "outputId": "5f1822c1-a937-4538-e2ae-e83762d4f1e3"
      },
      "execution_count": null,
      "outputs": [
        {
          "output_type": "stream",
          "name": "stdout",
          "text": [
            "+------------+--------------------+\n",
            "|profileLevel|    profileLevelName|\n",
            "+------------+--------------------+\n",
            "|           1|Dont have phone n...|\n",
            "|           2|   Have phone number|\n",
            "|           3|                 KYC|\n",
            "+------------+--------------------+\n",
            "\n"
          ]
        }
      ]
    },
    {
      "cell_type": "code",
      "source": [
        "map_transtype = spark.read.option(\"header\",\"true\").csv(\"/content/drive/MyDrive/2022/project/data/source/mapping/transtype.csv\")\n",
        "map_transtype = map_transtype.select(split(col(\"transtype\\ttranstypename\"),\"\\t\").getItem(0).alias(\"transtype\"),\n",
        "                           split(col(\"transtype\\ttranstypename\"),\"\\t\").getItem(1).alias(\"transtypename\"),\n",
        "                          ) \\\n",
        "                            .drop(\"transtype\\ttranstypename\").cache()\n",
        "map_transtype.show(5)"
      ],
      "metadata": {
        "colab": {
          "base_uri": "https://localhost:8080/"
        },
        "id": "O6gajSVsdlBi",
        "outputId": "df65d0db-4c60-4526-f1a0-3bccf49a94f9"
      },
      "execution_count": null,
      "outputs": [
        {
          "output_type": "stream",
          "name": "stdout",
          "text": [
            "+---------+-------------+\n",
            "|transtype|transtypename|\n",
            "+---------+-------------+\n",
            "|        1|      Fund In|\n",
            "|        2|     Fund out|\n",
            "|        3|      Payment|\n",
            "|        4|         LiXi|\n",
            "|        5|     Transfer|\n",
            "+---------+-------------+\n",
            "\n"
          ]
        }
      ]
    },
    {
      "cell_type": "markdown",
      "source": [
        "##Transactions"
      ],
      "metadata": {
        "id": "ZB5RAYP5peTw"
      }
    },
    {
      "cell_type": "code",
      "source": [
        "transaction = spark.read.option(\"header\",\"true\").csv(\"/content/drive/MyDrive/2022/project/data/source/transactions/2021-11-01/part-00000-8f0661ad-96d1-41c9-9b42-0d887254a35f-c000.csv\")\n",
        "transaction = transaction.select(split(col(\"transId\\ttransStatus\\tuserId\\ttransactionTime\\tappId\\ttransType\\tamount\\tpmcId\"),\"\\t\").getItem(0).alias(\"transId\"),\n",
        "                           split(col(\"transId\\ttransStatus\\tuserId\\ttransactionTime\\tappId\\ttransType\\tamount\\tpmcId\"),\"\\t\").getItem(1).alias(\"transStatus\"),\n",
        "                           split(col(\"transId\\ttransStatus\\tuserId\\ttransactionTime\\tappId\\ttransType\\tamount\\tpmcId\"),\"\\t\").getItem(2).alias(\"userId\"),\n",
        "                           split(col(\"transId\\ttransStatus\\tuserId\\ttransactionTime\\tappId\\ttransType\\tamount\\tpmcId\"),\"\\t\").getItem(3).alias(\"transactionTime\"),\n",
        "                           split(col(\"transId\\ttransStatus\\tuserId\\ttransactionTime\\tappId\\ttransType\\tamount\\tpmcId\"),\"\\t\").getItem(4).alias(\"appId\"),\n",
        "                           split(col(\"transId\\ttransStatus\\tuserId\\ttransactionTime\\tappId\\ttransType\\tamount\\tpmcId\"),\"\\t\").getItem(5).alias(\"transType\"),\n",
        "                           split(col(\"transId\\ttransStatus\\tuserId\\ttransactionTime\\tappId\\ttransType\\tamount\\tpmcId\"),\"\\t\").getItem(6).alias(\"amount\"),\n",
        "                           split(col(\"transId\\ttransStatus\\tuserId\\ttransactionTime\\tappId\\ttransType\\tamount\\tpmcId\"),\"\\t\").getItem(7).alias(\"pmcId\")) \\\n",
        "                            .drop(\"transId\\ttransStatus\\tuserId\\ttransactionTime\\tappId\\ttransType\\tamount\\tpmcId\").cache()\n",
        "transaction.show(5)"
      ],
      "metadata": {
        "colab": {
          "base_uri": "https://localhost:8080/"
        },
        "id": "nTOMBfRSfY7M",
        "outputId": "5155004f-6046-4d30-ddd8-83086d7a9de3"
      },
      "execution_count": null,
      "outputs": [
        {
          "output_type": "stream",
          "name": "stdout",
          "text": [
            "+--------------------+-----------+------+--------------------+-----+---------+-------+-----+\n",
            "|             transId|transStatus|userId|     transactionTime|appId|transType| amount|pmcId|\n",
            "+--------------------+-----------+------+--------------------+-----+---------+-------+-----+\n",
            "|20211101--2428536...|          1| 31007|2021-11-01 17:09:...|   70|        3|1603991|    1|\n",
            "|20211101--8364880...|          1| 26285|2021-11-01 09:27:...|   15|        3|9313080|    2|\n",
            "|20211101-90996169...|          1| 19721|2021-11-01 17:55:...|   18|        3|3540484|    3|\n",
            "|20211101--8426461...|         -1|  6826|2021-11-01 03:17:...|    1|        1|4372257|    4|\n",
            "|20211101-79265576...|         -1| 11744|2021-11-01 00:34:...|    2|        2|6078535|    2|\n",
            "+--------------------+-----------+------+--------------------+-----+---------+-------+-----+\n",
            "only showing top 5 rows\n",
            "\n"
          ]
        }
      ]
    },
    {
      "cell_type": "markdown",
      "source": [
        "##Users"
      ],
      "metadata": {
        "id": "78mLozSKpgsb"
      }
    },
    {
      "cell_type": "code",
      "source": [
        "users = spark.read.option(\"header\",\"true\").csv(\"/content/drive/MyDrive/2022/project/data/source/users/2021-11-01/part-00000-90950e0e-e0ae-4b04-a8ba-e2e6d8420f9e-c000.csv\")\n",
        "users = users.select(split(col(\"userid\\tbirthdate\\tprofileLevel\\tgender\\tupdatedTime\"),\"\\t\").getItem(0).alias(\"userid\"),\n",
        "                           split(col(\"userid\\tbirthdate\\tprofileLevel\\tgender\\tupdatedTime\"),\"\\t\").getItem(1).alias(\"birthdate\"),\n",
        "                           split(col(\"userid\\tbirthdate\\tprofileLevel\\tgender\\tupdatedTime\"),\"\\t\").getItem(2).alias(\"profileLevel\"),\n",
        "                           split(col(\"userid\\tbirthdate\\tprofileLevel\\tgender\\tupdatedTime\"),\"\\t\").getItem(3).alias(\"gender\"),\n",
        "                           split(col(\"userid\\tbirthdate\\tprofileLevel\\tgender\\tupdatedTime\"),\"\\t\").getItem(4).alias(\"updatedTime\")) \\\n",
        "                            .drop(\"transId\\ttransStatus\\tuserId\\ttransactionTime\\tappId\\ttransType\\tamount\\tpmcId\").cache()\n",
        "users.show(5)"
      ],
      "metadata": {
        "id": "CkbfOQzYiECL",
        "colab": {
          "base_uri": "https://localhost:8080/"
        },
        "outputId": "e85f4559-18fd-425d-c0ec-18b13a482b8b"
      },
      "execution_count": null,
      "outputs": [
        {
          "output_type": "stream",
          "name": "stdout",
          "text": [
            "+------+----------+------------+------+--------------------+\n",
            "|userid| birthdate|profileLevel|gender|         updatedTime|\n",
            "+------+----------+------------+------+--------------------+\n",
            "| 16739|2006-07-07|           3|     2|2021-11-01 23:33:...|\n",
            "|  2212|1970-04-26|           3|     1|2021-11-01 13:01:...|\n",
            "| 21246|1975-05-25|           3|     2|2021-11-01 05:21:...|\n",
            "| 17283|1990-12-12|           1|     2|2021-11-01 01:02:...|\n",
            "| 38267|1972-05-23|           1|     1|2021-11-01 14:42:...|\n",
            "+------+----------+------------+------+--------------------+\n",
            "only showing top 5 rows\n",
            "\n"
          ]
        }
      ]
    },
    {
      "cell_type": "markdown",
      "source": [
        "#Update to latest data"
      ],
      "metadata": {
        "id": "4jiml3HlzP3U"
      }
    },
    {
      "cell_type": "markdown",
      "source": [
        "###Latest users "
      ],
      "metadata": {
        "id": "JXssX9SHxTjR"
      }
    },
    {
      "cell_type": "code",
      "source": [
        "winSpec_user = Window.partitionBy(\"userid\")\n",
        "latest_users = users.withColumn(\"latest_update\", max(\"updatedTime\").over(winSpec_user))\n",
        "latest_users = latest_users.filter(\"latest_update == updatedTime\")\n",
        "latest_users.show(5)\n",
        "print(latest_users.count())"
      ],
      "metadata": {
        "colab": {
          "base_uri": "https://localhost:8080/"
        },
        "id": "vnav6mgbthyp",
        "outputId": "0756bcf7-27f6-4e91-ebf0-aa73440e054d"
      },
      "execution_count": null,
      "outputs": [
        {
          "output_type": "stream",
          "name": "stdout",
          "text": [
            "+------+----------+------------+------+--------------------+--------------------+\n",
            "|userid| birthdate|profileLevel|gender|         updatedTime|       latest_update|\n",
            "+------+----------+------------+------+--------------------+--------------------+\n",
            "| 10010|1965-04-13|           2|     1|2021-11-01 19:23:...|2021-11-01 19:23:...|\n",
            "| 10042|1967-06-13|           1|     2|2021-11-01 15:46:...|2021-11-01 15:46:...|\n",
            "| 10070|1967-05-28|           3|     2|2021-11-01 21:26:...|2021-11-01 21:26:...|\n",
            "| 10271|1975-08-31|           1|     2|2021-11-01 08:00:...|2021-11-01 08:00:...|\n",
            "| 10286|1961-01-11|           2|     1|2021-11-01 20:50:...|2021-11-01 20:50:...|\n",
            "+------+----------+------------+------+--------------------+--------------------+\n",
            "only showing top 5 rows\n",
            "\n",
            "424\n"
          ]
        }
      ]
    },
    {
      "cell_type": "markdown",
      "source": [
        "###Earliest and latest transactions "
      ],
      "metadata": {
        "id": "ocobvdaRx4z-"
      }
    },
    {
      "cell_type": "code",
      "source": [
        "winSpec_trans = Window.partitionBy(\"userid\")\n",
        "updated_transaction = transaction.withColumn(\"latest_active\", max(\"transactionTime\").over(winSpec_trans))\n",
        "updated_transaction = updated_transaction.withColumn(\"earliest_active\", min(\"transactionTime\").over(winSpec_trans))\n",
        "updated_transaction = updated_transaction.withColumn(\"latest_transaction\", \n",
        "                                                     when(updated_transaction.transStatus== 1,\n",
        "                                                          max(\"transactionTime\").over(winSpec_trans)).otherwise(\"null\"))\n",
        "updated_transaction = updated_transaction.withColumn(\"earliest_transaction\", \n",
        "                                                     when(updated_transaction.transStatus== 1,\n",
        "                                                          min(\"transactionTime\").over(winSpec_trans)).otherwise(\"null\"))\n",
        "updated_transaction.show(5)\n",
        "print(updated_transaction.count())"
      ],
      "metadata": {
        "colab": {
          "base_uri": "https://localhost:8080/"
        },
        "id": "FE2H7V_ExS9H",
        "outputId": "34c70880-6a88-47f2-bd8d-620b9b10d830"
      },
      "execution_count": null,
      "outputs": [
        {
          "output_type": "stream",
          "name": "stdout",
          "text": [
            "+--------------------+-----------+------+--------------------+-----+---------+-------+-----+--------------------+--------------------+--------------------+--------------------+\n",
            "|             transId|transStatus|userId|     transactionTime|appId|transType| amount|pmcId|       latest_active|     earliest_active|  latest_transaction|earliest_transaction|\n",
            "+--------------------+-----------+------+--------------------+-----+---------+-------+-----+--------------------+--------------------+--------------------+--------------------+\n",
            "|20211101--7029178...|          1|   100|2021-11-01 09:25:...|    5|        5|9821462|    2|2021-11-01 09:25:...|2021-11-01 09:25:...|2021-11-01 09:25:...|2021-11-01 09:25:...|\n",
            "|20211101-69441642...|         -1| 10002|2021-11-01 04:33:...|    1|        1|2919106|    2|2021-11-01 04:33:...|2021-11-01 04:33:...|                null|                null|\n",
            "|20211101--6108721...|          0| 10011|2021-11-01 08:26:...|    4|        4|9270370|    3|2021-11-01 08:26:...|2021-11-01 08:26:...|                null|                null|\n",
            "|20211101-22015685...|          0| 10019|2021-11-01 22:50:...|    4|        4|4220358|    1|2021-11-01 22:50:...|2021-11-01 22:50:...|                null|                null|\n",
            "|20211101-76222096...|          0|  1002|2021-11-01 14:27:...|    2|        2|8821284|    3|2021-11-01 14:27:...|2021-11-01 14:27:...|                null|                null|\n",
            "+--------------------+-----------+------+--------------------+-----+---------+-------+-----+--------------------+--------------------+--------------------+--------------------+\n",
            "only showing top 5 rows\n",
            "\n",
            "3324\n"
          ]
        }
      ]
    },
    {
      "cell_type": "code",
      "source": [
        "updated_transaction.filter(updated_transaction.appId.isNull()).show()"
      ],
      "metadata": {
        "colab": {
          "base_uri": "https://localhost:8080/"
        },
        "id": "sO5NUvRQr6ji",
        "outputId": "3c455cc8-b390-404b-fd30-da1b08578054"
      },
      "execution_count": null,
      "outputs": [
        {
          "output_type": "stream",
          "name": "stdout",
          "text": [
            "+-------+-----------+------+---------------+-----+---------+------+-----+-------------+---------------+------------------+--------------------+\n",
            "|transId|transStatus|userId|transactionTime|appId|transType|amount|pmcId|latest_active|earliest_active|latest_transaction|earliest_transaction|\n",
            "+-------+-----------+------+---------------+-----+---------+------+-----+-------------+---------------+------------------+--------------------+\n",
            "+-------+-----------+------+---------------+-----+---------+------+-----+-------------+---------------+------------------+--------------------+\n",
            "\n"
          ]
        }
      ]
    },
    {
      "cell_type": "markdown",
      "source": [
        "#Create tables"
      ],
      "metadata": {
        "id": "d4G4tqJVzUAC"
      }
    },
    {
      "cell_type": "code",
      "source": [
        "demographic = latest_users\n",
        "demographic = demographic.join(mapping_gender,\"gender\",\"leftouter\").join(map_profile,\"profileLevel\",\"leftouter\").drop(\"profileLevel\",\"gender\")\n",
        "demographic.show(5)\n",
        "demographic.summary().show()"
      ],
      "metadata": {
        "colab": {
          "base_uri": "https://localhost:8080/"
        },
        "id": "1_drMGegl6Bh",
        "outputId": "4f2a6e7c-a644-4839-8f3d-d934d64eb69c"
      },
      "execution_count": null,
      "outputs": [
        {
          "output_type": "stream",
          "name": "stdout",
          "text": [
            "+------+----------+--------------------+--------------------+----------+--------------------+\n",
            "|userid| birthdate|         updatedTime|       latest_update|genderName|    profileLevelName|\n",
            "+------+----------+--------------------+--------------------+----------+--------------------+\n",
            "| 10010|1965-04-13|2021-11-01 19:23:...|2021-11-01 19:23:...|      Male|   Have phone number|\n",
            "| 10042|1967-06-13|2021-11-01 15:46:...|2021-11-01 15:46:...|    Female|Dont have phone n...|\n",
            "| 10070|1967-05-28|2021-11-01 21:26:...|2021-11-01 21:26:...|    Female|                 KYC|\n",
            "| 10271|1975-08-31|2021-11-01 08:00:...|2021-11-01 08:00:...|    Female|Dont have phone n...|\n",
            "| 10286|1961-01-11|2021-11-01 20:50:...|2021-11-01 20:50:...|      Male|   Have phone number|\n",
            "+------+----------+--------------------+--------------------+----------+--------------------+\n",
            "only showing top 5 rows\n",
            "\n",
            "+-------+------------------+----------+--------------------+--------------------+----------+--------------------+\n",
            "|summary|            userid| birthdate|         updatedTime|       latest_update|genderName|    profileLevelName|\n",
            "+-------+------------------+----------+--------------------+--------------------+----------+--------------------+\n",
            "|  count|               424|       424|                 424|                 424|       424|                 424|\n",
            "|   mean|22435.658018867925|      null|                null|                null|      null|                null|\n",
            "| stddev|12387.675736388643|      null|                null|                null|      null|                null|\n",
            "|    min|             10010|1950-01-19|2021-11-01 00:04:...|2021-11-01 00:04:...|    Female|Dont have phone n...|\n",
            "|    25%|           11510.0|      null|                null|                null|      null|                null|\n",
            "|    50%|           22831.0|      null|                null|                null|      null|                null|\n",
            "|    75%|           33129.0|      null|                null|                null|      null|                null|\n",
            "|    max|              9965|2009-11-10|2021-11-01 23:50:...|2021-11-01 23:50:...|      Male|                 KYC|\n",
            "+-------+------------------+----------+--------------------+--------------------+----------+--------------------+\n",
            "\n"
          ]
        }
      ]
    },
    {
      "cell_type": "code",
      "source": [
        "demographic.select(demographic.genderName).distinct().show()"
      ],
      "metadata": {
        "colab": {
          "base_uri": "https://localhost:8080/"
        },
        "id": "MWAK7Av6wwkC",
        "outputId": "5831c768-2168-4a3e-b610-c42590b51599"
      },
      "execution_count": null,
      "outputs": [
        {
          "output_type": "stream",
          "name": "stdout",
          "text": [
            "+----------+\n",
            "|genderName|\n",
            "+----------+\n",
            "|    Female|\n",
            "|      Male|\n",
            "+----------+\n",
            "\n"
          ]
        }
      ]
    },
    {
      "cell_type": "code",
      "source": [
        "activity = updated_transaction.select(\"userId\",\"appId\",\"transType\",\"pmcId\",\"latest_active\",\"earliest_active\",\"latest_transaction\",\"earliest_transaction\")\n",
        "activity = activity.join(mapping_appid,activity.appId==mapping_appid.appid,\"fullouter\") \\\n",
        "                    .join(map_transtype,activity.transType==map_transtype.transtype,\"fullouter\") \\\n",
        "                    .drop(mapping_appid.appid).drop(map_transtype.transtype)\n",
        "\n",
        "activity.show()\n",
        "print(activity.count())"
      ],
      "metadata": {
        "colab": {
          "base_uri": "https://localhost:8080/"
        },
        "id": "wB1vqP0wo8Bb",
        "outputId": "3094535a-2fb6-4d14-be5e-4952be0600ba"
      },
      "execution_count": null,
      "outputs": [
        {
          "output_type": "stream",
          "name": "stdout",
          "text": [
            "+------+-----+---------+-----+--------------------+--------------------+--------------------+--------------------+-------+-------------+\n",
            "|userId|appId|transType|pmcId|       latest_active|     earliest_active|  latest_transaction|earliest_transaction|appname|transtypename|\n",
            "+------+-----+---------+-----+--------------------+--------------------+--------------------+--------------------+-------+-------------+\n",
            "| 10002|    1|        1|    2|2021-11-01 04:33:...|2021-11-01 04:33:...|                null|                null|   null|      Fund In|\n",
            "| 10026|    1|        1|    4|2021-11-01 04:36:...|2021-11-01 04:36:...|                null|                null|   null|      Fund In|\n",
            "| 10048|    1|        1|    3|2021-11-01 18:17:...|2021-11-01 18:17:...|                null|                null|   null|      Fund In|\n",
            "| 10147|    1|        1|    1|2021-11-01 10:14:...|2021-11-01 10:14:...|                null|                null|   null|      Fund In|\n",
            "| 10176|    1|        1|    2|2021-11-01 14:21:...|2021-11-01 14:21:...|                null|                null|   null|      Fund In|\n",
            "| 10177|    1|        1|    1|2021-11-01 14:20:...|2021-11-01 14:20:...|2021-11-01 14:20:...|2021-11-01 14:20:...|   null|      Fund In|\n",
            "| 10277|    1|        1|    2|2021-11-01 02:23:...|2021-11-01 02:23:...|                null|                null|   null|      Fund In|\n",
            "| 10289|    1|        1|    3|2021-11-01 08:44:...|2021-11-01 03:12:...|                null|                null|   null|      Fund In|\n",
            "| 10323|    1|        1|    4|2021-11-01 01:52:...|2021-11-01 01:52:...|                null|                null|   null|      Fund In|\n",
            "| 10360|    1|        1|    4|2021-11-01 14:19:...|2021-11-01 14:19:...|                null|                null|   null|      Fund In|\n",
            "|  1038|    1|        1|    2|2021-11-01 17:28:...|2021-11-01 17:28:...|                null|                null|   null|      Fund In|\n",
            "| 10439|    1|        1|    2|2021-11-01 22:25:...|2021-11-01 09:41:...|                null|                null|   null|      Fund In|\n",
            "| 10600|    1|        1|    2|2021-11-01 17:45:...|2021-11-01 17:45:...|2021-11-01 17:45:...|2021-11-01 17:45:...|   null|      Fund In|\n",
            "| 10637|    1|        1|    4|2021-11-01 11:55:...|2021-11-01 11:55:...|                null|                null|   null|      Fund In|\n",
            "| 10708|    1|        1|    4|2021-11-01 07:09:...|2021-11-01 07:09:...|                null|                null|   null|      Fund In|\n",
            "| 10753|    1|        1|    4|2021-11-01 13:22:...|2021-11-01 13:22:...|                null|                null|   null|      Fund In|\n",
            "| 10755|    1|        1|    1|2021-11-01 08:50:...|2021-11-01 08:50:...|                null|                null|   null|      Fund In|\n",
            "| 10773|    1|        1|    4|2021-11-01 21:44:...|2021-11-01 21:44:...|2021-11-01 21:44:...|2021-11-01 21:44:...|   null|      Fund In|\n",
            "| 10791|    1|        1|    3|2021-11-01 17:24:...|2021-11-01 17:24:...|                null|                null|   null|      Fund In|\n",
            "|  1080|    1|        1|    4|2021-11-01 23:18:...|2021-11-01 23:18:...|                null|                null|   null|      Fund In|\n",
            "+------+-----+---------+-----+--------------------+--------------------+--------------------+--------------------+-------+-------------+\n",
            "only showing top 20 rows\n",
            "\n",
            "3324\n"
          ]
        }
      ]
    },
    {
      "cell_type": "code",
      "source": [
        "activity.select(activity.appname).distinct().show()"
      ],
      "metadata": {
        "colab": {
          "base_uri": "https://localhost:8080/"
        },
        "id": "KHQyGVsks2Mf",
        "outputId": "2f770885-3dd3-4de3-d804-514180e35fb2"
      },
      "execution_count": null,
      "outputs": [
        {
          "output_type": "stream",
          "name": "stdout",
          "text": [
            "+-----------+\n",
            "|    appname|\n",
            "+-----------+\n",
            "|      Water|\n",
            "|     Lazada|\n",
            "|    Dominos|\n",
            "|Electricity|\n",
            "|         TV|\n",
            "|       null|\n",
            "|   Internet|\n",
            "|      123Go|\n",
            "|    123Phim|\n",
            "|     Shopee|\n",
            "|       Game|\n",
            "|      Telco|\n",
            "|      Bitis|\n",
            "|       Tiki|\n",
            "+-----------+\n",
            "\n"
          ]
        }
      ]
    },
    {
      "cell_type": "code",
      "source": [
        "promotions = promotion.join(campaign,\"campaignID\",\"fullouter\")\n",
        "promotions.show(5)"
      ],
      "metadata": {
        "colab": {
          "base_uri": "https://localhost:8080/"
        },
        "id": "ZF1EGZP7jvDI",
        "outputId": "e124860d-b954-4793-b648-ec07e889d439"
      },
      "execution_count": null,
      "outputs": [
        {
          "output_type": "stream",
          "name": "stdout",
          "text": [
            "+----------+------+-----------+------+--------------------+------------+-------------------+----------+\n",
            "|campaignID|userid|voucherCode|status|                time|campaignType|         expireDate|expireTime|\n",
            "+----------+------+-----------+------+--------------------+------------+-------------------+----------+\n",
            "|      1000|  3070|     1000-5| GIVEN|2021-11-01 13:31:...|           1|2022-01-01 00:00:00|         0|\n",
            "|      1000| 12531|   1000-103| GIVEN|2021-11-01 00:44:...|           1|2022-01-01 00:00:00|         0|\n",
            "|      1000|  6860|   1000-146| GIVEN|2021-11-01 03:26:...|           1|2022-01-01 00:00:00|         0|\n",
            "|      1000| 11744|   1000-375| GIVEN|2021-11-01 10:01:...|           1|2022-01-01 00:00:00|         0|\n",
            "|      1000|  2580|   1000-670| GIVEN|2021-11-01 17:44:...|           1|2022-01-01 00:00:00|         0|\n",
            "+----------+------+-----------+------+--------------------+------------+-------------------+----------+\n",
            "only showing top 5 rows\n",
            "\n"
          ]
        }
      ]
    }
  ]
}